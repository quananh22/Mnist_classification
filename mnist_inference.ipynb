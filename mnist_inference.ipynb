{
 "cells": [
  {
   "cell_type": "code",
   "execution_count": null,
   "id": "9544d8ff",
   "metadata": {},
   "outputs": [],
   "source": [
    "import torch\n",
    "import onnx\n",
    "import onnxruntime as ort\n",
    "import numpy as np\n",
    "import math\n",
    "import time\n",
    "import gzip\n",
    "import psutil\n",
    "import gc"
   ]
  },
  {
   "cell_type": "code",
   "execution_count": 8,
   "id": "2af6a511",
   "metadata": {},
   "outputs": [
    {
     "name": "stdout",
     "output_type": "stream",
     "text": [
      "Test images shape: (10000, 1, 28, 28), Test labels shape: (10000,)\n",
      "ONNX model loaded and checked successfully.\n"
     ]
    }
   ],
   "source": [
    "# Function to read IDX format files\n",
    "def read_idx(filename):\n",
    "    with gzip.open(filename, 'rb') as f:\n",
    "        # Read magic number and dimensions\n",
    "        magic = int.from_bytes(f.read(4), 'big')\n",
    "        ndim = magic & 0xFF\n",
    "        dims = [int.from_bytes(f.read(4), 'big') for _ in range(ndim)]\n",
    "        \n",
    "        # Read data\n",
    "        data = np.frombuffer(f.read(), dtype=np.uint8)\n",
    "        return data.reshape(dims)\n",
    "\n",
    "# Load MNIST test data and labels from gz files\n",
    "mnist_test_images = read_idx('./data/MNIST/raw/t10k-images-idx3-ubyte.gz')\n",
    "mnist_test_labels = read_idx('./data/MNIST/raw/t10k-labels-idx1-ubyte.gz')\n",
    "\n",
    "# Preprocess the images: normalize to [0,1] and add channel dimension\n",
    "mnist_test_images = mnist_test_images.reshape(-1, 1, 28, 28).astype(np.float32) / 255.0\n",
    "mnist_test_labels = mnist_test_labels.astype(np.int64)\n",
    "\n",
    "print(f\"Test images shape: {mnist_test_images.shape}, Test labels shape: {mnist_test_labels.shape}\")\n",
    "\n",
    "# Load the ONNX model\n",
    "onnx_model_path = './mnist_model.onnx'\n",
    "onnx_model = onnx.load(onnx_model_path)\n",
    "onnx.checker.check_model(onnx_model)\n",
    "print(\"ONNX model loaded and checked successfully.\")"
   ]
  },
  {
   "cell_type": "code",
   "execution_count": 9,
   "id": "e9c66d3e",
   "metadata": {},
   "outputs": [
    {
     "name": "stdout",
     "output_type": "stream",
     "text": [
      "Input name: input\n",
      "Input shape: ['batch_size', 1, 28, 28]\n",
      "Single image shape: (1, 1, 28, 28)\n",
      "True label: 7\n"
     ]
    }
   ],
   "source": [
    "# Create ONNX Runtime session\n",
    "ort_session = ort.InferenceSession(onnx_model_path)\n",
    "\n",
    "# Get input details\n",
    "input_name = ort_session.get_inputs()[0].name\n",
    "print(f\"Input name: {input_name}\")\n",
    "print(f\"Input shape: {ort_session.get_inputs()[0].shape}\")\n",
    "\n",
    "# Select a single test image for inference (you can change the index)\n",
    "test_image_idx = 0\n",
    "single_image = mnist_test_images[test_image_idx:test_image_idx+1]  # Keep batch dimension\n",
    "true_label = mnist_test_labels[test_image_idx]\n",
    "\n",
    "print(f\"Single image shape: {single_image.shape}\")\n",
    "print(f\"True label: {true_label}\")\n",
    "\n",
    "# Run inference on single image\n",
    "ort_outputs = ort_session.run(None, {input_name: single_image})\n",
    "# Get predictions\n",
    "predictions = np.array(ort_outputs[0])"
   ]
  },
  {
   "cell_type": "code",
   "execution_count": 10,
   "id": "5585fb4d",
   "metadata": {},
   "outputs": [
    {
     "name": "stdout",
     "output_type": "stream",
     "text": [
      "After softmax conversion:\n",
      "Predicted class: 7\n",
      "Confidence: 1.0000\n",
      "Correct prediction: True\n",
      "\n",
      "Class probabilities (after softmax):\n",
      "Class 0: 0.0000\n",
      "Class 1: 0.0000\n",
      "Class 2: 0.0000\n",
      "Class 3: 0.0000\n",
      "Class 4: 0.0000\n",
      "Class 5: 0.0000\n",
      "Class 6: 0.0000\n",
      "Class 7: 1.0000\n",
      "Class 8: 0.0000\n",
      "Class 9: 0.0000\n"
     ]
    }
   ],
   "source": [
    "# Convert logits to probabilities using softmax\n",
    "def softmax(x):\n",
    "    exp_x = np.exp(x - np.max(x))  # Subtract max for numerical stability\n",
    "    return exp_x / np.sum(exp_x)\n",
    "\n",
    "# Apply softmax to get proper probabilities\n",
    "probabilities = softmax(predictions[0])\n",
    "predicted_class_softmax = np.argmax(probabilities)\n",
    "confidence_softmax = np.max(probabilities)\n",
    "\n",
    "print(f\"After softmax conversion:\")\n",
    "print(f\"Predicted class: {predicted_class_softmax}\")\n",
    "print(f\"Confidence: {confidence_softmax:.4f}\")\n",
    "print(f\"Correct prediction: {predicted_class_softmax == true_label}\")\n",
    "\n",
    "print(\"\\nClass probabilities (after softmax):\")\n",
    "for i, prob in enumerate(probabilities):\n",
    "    print(f\"Class {i}: {prob:.4f}\")\n"
   ]
  },
  {
   "cell_type": "code",
   "execution_count": 11,
   "id": "a991d86c",
   "metadata": {},
   "outputs": [
    {
     "data": {
      "image/png": "[encoded data removed]",
      "text/plain": [
       "<Figure size 1000x400 with 2 Axes>"
      ]
     },
     "metadata": {},
     "output_type": "display_data"
    }
   ],
   "source": [
    "# Visualize the test image and prediction\n",
    "import matplotlib.pyplot as plt\n",
    "\n",
    "plt.figure(figsize=(10, 4))\n",
    "\n",
    "# Show the image\n",
    "plt.subplot(1, 2, 1)\n",
    "plt.imshow(single_image[0, 0], cmap='gray')\n",
    "plt.title(f'Test Image\\nTrue Label: {true_label}, Predicted: {predicted_class_softmax}')\n",
    "plt.axis('off')\n",
    "\n",
    "# Show probability distribution\n",
    "plt.subplot(1, 2, 2)\n",
    "plt.bar(range(10), probabilities)\n",
    "plt.xlabel('Digit Class')\n",
    "plt.ylabel('Probability')\n",
    "plt.title('Prediction Probabilities')\n",
    "plt.xticks(range(10))\n",
    "for i, prob in enumerate(probabilities):\n",
    "    if prob > 0.01:  # Only show labels for probabilities > 1%\n",
    "        plt.text(i, prob + 0.01, f'{prob:.3f}', ha='center', va='bottom')\n",
    "\n",
    "plt.tight_layout()\n",
    "plt.show()"
   ]
  },
  {
   "cell_type": "code",
   "execution_count": 12,
   "id": "1d6f0842",
   "metadata": {},
   "outputs": [
    {
     "name": "stdout",
     "output_type": "stream",
     "text": [
      "Running batch inference on 100 test images...\n",
      "Accuracy on 100 test images: 1.0000 (100.00%)\n",
      "\n",
      "Running batch inference on 1000 test images...\n",
      "Accuracy on 1000 test images: 0.9920 (99.20%)\n"
     ]
    }
   ],
   "source": [
    "# Batch inference on multiple test images\n",
    "def run_batch_inference(start_idx=0, num_images=100):\n",
    "    correct_predictions = 0\n",
    "    all_predictions = []\n",
    "    \n",
    "    for i in range(start_idx, min(start_idx + num_images, len(mnist_test_images))):\n",
    "        # Get single image\n",
    "        test_image = mnist_test_images[i:i+1]\n",
    "        true_label = mnist_test_labels[i]\n",
    "        \n",
    "        # Run inference\n",
    "        ort_outputs = ort_session.run(None, {input_name: test_image})\n",
    "        logits = ort_outputs[0]\n",
    "        \n",
    "        # Convert to probabilities\n",
    "        probabilities = softmax(logits[0])\n",
    "        predicted_class = np.argmax(probabilities)\n",
    "        \n",
    "        all_predictions.append(predicted_class)\n",
    "        \n",
    "        if predicted_class == true_label:\n",
    "            correct_predictions += 1\n",
    "    \n",
    "    accuracy = correct_predictions / num_images\n",
    "    return accuracy, all_predictions\n",
    "\n",
    "# Test on first 100 images\n",
    "print(\"Running batch inference on 100 test images...\")\n",
    "accuracy, predictions = run_batch_inference(0, 100)\n",
    "print(f\"Accuracy on 100 test images: {accuracy:.4f} ({accuracy*100:.2f}%)\")\n",
    "\n",
    "# Test on first 1000 images for more comprehensive evaluation\n",
    "print(\"\\nRunning batch inference on 1000 test images...\")\n",
    "accuracy_1k, predictions_1k = run_batch_inference(0, 1000)\n",
    "print(f\"Accuracy on 1000 test images: {accuracy_1k:.4f} ({accuracy_1k*100:.2f}%)\")"
   ]
  },
  {
   "cell_type": "code",
   "execution_count": 87,
   "id": "2f6ff200",
   "metadata": {},
   "outputs": [
    {
     "name": "stdout",
     "output_type": "stream",
     "text": [
      "\n",
      "ONNX Inference Time: 0.00 ms\n",
      "ONNX Predicted class: 7, Confidence: 1.0000\n",
      "\n",
      "PyTorch Inference Time: 8034.94 ms\n",
      "PyTorch Predicted class: 7, Confidence: 1.0000\n"
     ]
    }
   ],
   "source": [
    "# Compare Inference time between ONNX format and pth format\n",
    "# Load the PyTorch model (CPU only)\n",
    "pth_model_path = './mnist_model.pth'\n",
    "pth_model = torch.load(pth_model_path, map_location='cpu')\n",
    "pth_model.eval()\n",
    "\n",
    "# Function to run inference, measure time and memory usage (CPU only)\n",
    "def measure_inference_time(model, input_data, framework='onnx'):\n",
    "    start_time = time.time()\n",
    "    if framework == 'onnx':\n",
    "        logits = model.run(None, {input_name: input_data})[0]\n",
    "    else:  # pytorch\n",
    "        with torch.no_grad():\n",
    "            logits = model(torch.from_numpy(input_data)).numpy()\n",
    "    end_time = time.time()    \n",
    "    return (end_time - start_time) * 1000, logits\n",
    "\n",
    "# Measure ONNX inference time\n",
    "onnx_time, onnx_logits = measure_inference_time(model=ort_session, input_data=single_image, framework='onnx')\n",
    "onnx_probabilities = softmax(onnx_logits[0])\n",
    "onnx_predicted_class = np.argmax(onnx_probabilities)\n",
    "onnx_confidence = np.max(onnx_probabilities)\n",
    "print(f\"\\nONNX Inference Time: {onnx_time*1000:.2f} ms\")\n",
    "print(f\"ONNX Predicted class: {onnx_predicted_class}, Confidence: {onnx_confidence:.4f}\\n\")\n",
    "\n",
    "# Measure PyTorch inference time\n",
    "pytorch_time, pytorch_logits = measure_inference_time(model=pth_model, input_data=single_image, framework='pytorch')\n",
    "pytorch_probabilities = softmax(pytorch_logits[0])\n",
    "pytorch_predicted_class = np.argmax(pytorch_probabilities)\n",
    "pytorch_confidence = np.max(pytorch_probabilities)\n",
    "print(f\"PyTorch Inference Time: {pytorch_time*1000:.2f} ms\")\n",
    "print(f\"PyTorch Predicted class: {pytorch_predicted_class}, Confidence: {pytorch_confidence:.4f}\")"
   ]
  }
 ],
 "metadata": {
  "kernelspec": {
   "display_name": "base",
   "language": "python",
   "name": "python3"
  },
  "language_info": {
   "codemirror_mode": {
    "name": "ipython",
    "version": 3
   },
   "file_extension": ".py",
   "mimetype": "text/x-python",
   "name": "python",
   "nbconvert_exporter": "python",
   "pygments_lexer": "ipython3",
   "version": "3.11.5"
  }
 },
 "nbformat": 4,
 "nbformat_minor": 5
}
